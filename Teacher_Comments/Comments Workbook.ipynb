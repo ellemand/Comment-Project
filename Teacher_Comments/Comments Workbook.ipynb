{
 "cells": [
  {
   "cell_type": "code",
   "execution_count": 2,
   "metadata": {
    "collapsed": false
   },
   "outputs": [
    {
     "name": "stdout",
     "output_type": "stream",
     "text": [
      "First Name,Last Name,Attribute 1,Attribute 2,Attribute 3,Test 1,Midterm,Test 3,Final,project 1,project 2,Semester Grade,Midterm Exam Skill,Final Exam Skill,Sex,Questions,Small Group\n",
      "\n",
      "[['Ethan', 'Bankowski', 'humor', 'collaboration', 'work ethic', '85', '89', '93', '96', '98', '93', '92.65', 'firm understanding of python', 'great problem solving skills', 'male', 'yes', 'yes'], ['John', 'Fitzhenry', 'diligence', 'focus', 'humor', '99', '83', '79', '69', '80', '70', '79.5', 'great problem solving skills', 'excellent doc strings', 'male', 'yes', 'no'], ['Daniel', 'Elleman', 'focus', 'diligence', 'collaboration', '90', '94', '94', '96', '91', '92', '92.7', 'excellent doc strings', 'great problem solving skills', 'male', 'yes', 'yes'], ['Hugh', 'Shanno', 'work ethic', 'humor', 'focus', '76', '92', '85', '98', '93', '95', '90.25', 'creative approach to problem', 'firm understanding of functions', 'male', 'no', 'yes'], ['Clyde', 'Beuter', 'collaboration', 'humor', 'work ethic', '85', '80', '73', '84', '92', '97', '86.1', 'firm understanding of functions', 'great problem solving skills', 'male', 'no', 'yes'], ['Drake', 'Beuter', 'perserverance', 'diligence', 'focus', '88', '97', '88', '89', '84', '94', '89.9', 'neat, concise work', 'great problem solving skills', 'male', 'no', 'no'], ['Ava', 'Casalino', 'natural ability', 'humor', 'work ethic', '90', '88', '86', '87', '87', '83', '86.65', 'excellent understanding of dictionaries', 'neat, concise work', 'female', 'no', 'yes'], ['Daisy', 'Chen', 'encouraging nature', 'diligence', 'collaboration', '83', '98', '89', '94', '95', '89', '91.4', 'neat, concise work', 'great problem solving skills', 'female', 'no', 'no'], ['Jane', 'Chen', 'collaboration', 'humor', 'perserverance', '84', '95', '98', '84', '92', '87', '89.95', 'excellent doc strings', 'great problem solving skills', 'female', 'yes', 'no'], ['Justin', 'Dao', 'diligence', 'focus', 'humor', '92', '96', '96', '97', '86', '94', '93.15', 'great problem solving skills', 'creative approach to problem', 'male', 'yes', 'yes'], ['Greta', 'Ferguson', 'humor', 'diligence', 'work ethic', '87', '92', '91', '82', '89', '83', '87.2', 'firm understanding of functions', 'excellent understanding of dictionaries', 'female', 'no', 'yes'], ['Kara', 'Gaiser', 'work ethic', 'focus', 'perserverance', '88', '84', '82', '94', '98', '86', '89', 'great problem solving skills', 'creative approach to problem', 'female', 'yes', 'yes'], ['Aashni', 'Jain', 'natural ability', 'perserverance', 'work ethic', '93', '86', '84', '85', '93', '94', '89.6', 'neat, concise work', 'great problem solving skills', 'female', 'yes', 'no'], ['Aida', 'Krzalic', 'collaboration', 'diligence', 'natural ability', '79', '83', '79', '83', '95', '96', '86.8', 'creative approach to problem', 'great problem solving skills', 'female', 'no', 'no'], ['Eric', 'Lian', 'diligence', 'natural ability', 'humor', '88', '99', '100', '86', '83', '94', '91.35', 'firm understanding of python', 'firm understanding of functions', 'male', 'no', 'yes'], ['Ekki', 'Lu', 'encouraging nature', 'perserverance', 'focus', '85', '97', '98', '92', '95', '93', '93.4', 'firm understanding of python', 'great problem solving skills', 'female', 'yes', 'no'], ['Aashna', 'MacLennan', 'focus', 'collaboration', 'perserverance', '94', '80', '84', '97', '95', '83', '88.85', 'firm understanding of functions', 'excellent doc strings', 'female', 'no', 'yes'], ['Maxine', 'Matheson-Lieber', 'diligence', 'focus', 'perserverance', '91', '85', '86', '86', '91', '86', '87.6', 'great problem solving skills', 'excellent doc strings', 'female', 'yes', 'yes'], ['Nic', 'Nautiyal', 'work ethic', 'focus', 'diligence', '89', '87', '82', '99', '88', '84', '87.95', 'excellent understanding of dictionaries', 'firm understanding of functions', 'male', 'no', 'no'], ['Macy', \"O'Hara\", 'focus', 'diligence', 'natural ability', '80', '80', '70', '70', '70', '80', '75', 'neat, concise work', 'excellent doc strings', 'female', 'yes', 'no'], ['Kim', 'Promthaw', 'natural ability', 'perserverance', 'encouraging nature', '91', '96', '92', '96', '95', '95', '94.25', 'firm understanding of python', 'neat, concise work', 'male', 'no', 'no'], ['Jonah', 'Song', 'humor', 'natural ability', 'work ethic', '75', '35', '82', '65', '64', '84', '68.15', 'excellent understanding of dictionaries', 'excellent doc strings', 'male', 'yes', 'yes'], ['Isabelle', 'Torch', 'perserverance', 'diligence', 'humor', '77', '79', '79', '99', '84', '92', '85.3', 'creative approach to problem', 'neat, concise work', 'female', 'yes', 'no'], ['Amanda', 'Tracy', 'work ethic', 'natural ability', 'collaboration', '87', '83', '80', '83', '92', '86', '85.55', 'creative approach to problem', 'neat, concise work', 'female', 'no', 'yes'], ['Toby', 'Ueno', 'encouraging nature', 'collaboration', 'diligence', '90', '84', '90', '79', '95', '89', '88.25', 'neat, concise work', 'neat, concise work', 'male', 'yes', 'yes'], ['Mia', 'Wang', 'collaboration', 'encouraging nature', 'work ethic', '80', '98', '91', '92', '82', '87', '87.95', 'firm understanding of python', 'excellent understanding of dictionaries', 'female', 'no', 'yes'], ['Kanye', 'West', 'rapping', 'producing', 'eating', '60', '70', '50', '75', '80', '75', '70', 'good flow', 'strong religious vibes', 'male', 'no', 'no']]\n"
     ]
    }
   ],
   "source": [
    "import csv\n",
    "comments = []\n",
    "with open('teachercomments.csv') as csvfile:\n",
    "    data = csv.reader(csvfile, delimiter=',')\n",
    "    header = csvfile.readline()\n",
    "    for row in data:\n",
    "        comments.append(row)\n",
    "        \n",
    "print(header)\n",
    "print(comments)"
   ]
  },
  {
   "cell_type": "code",
   "execution_count": 3,
   "metadata": {
    "collapsed": false
   },
   "outputs": [
    {
     "data": {
      "text/plain": [
       "['Ethan',\n",
       " 'Bankowski',\n",
       " 'humor',\n",
       " 'collaboration',\n",
       " 'work ethic',\n",
       " '85',\n",
       " '89',\n",
       " '93',\n",
       " '96',\n",
       " '98',\n",
       " '93',\n",
       " '92.65',\n",
       " 'firm understanding of python',\n",
       " 'great problem solving skills',\n",
       " 'male',\n",
       " 'yes',\n",
       " 'yes']"
      ]
     },
     "execution_count": 3,
     "metadata": {
     },
     "output_type": "execute_result"
    }
   ],
   "source": [
    "#Did not use in final function.\n",
    "def items():\n",
    "    with open('teachercomments.csv') as csvfile:\n",
    "        data = csv.reader(csvfile, delimiter=',')\n",
    "        header = csvfile.readline()\n",
    "        for item in data:\n",
    "            return item\n",
    "\n",
    "items()"
   ]
  },
  {
   "cell_type": "code",
   "execution_count": 4,
   "metadata": {
    "collapsed": false
   },
   "outputs": [
    {
     "data": {
      "text/plain": [
       "'This semester in Comp. Sci. Python, through a project-based approach, students worked towards mastering the fundamentals of computational thinking and problem-solving using the Python programming language. Over the semester, students learned Python syntax, data types, program organization, algorithm design, and control structures. However, the primary goal for this class was for students to be able to develop efficient, readable algorithms and debug code when necessary.'"
      ]
     },
     "execution_count": 4,
     "metadata": {
     },
     "output_type": "execute_result"
    }
   ],
   "source": [
    "def coursedescription():\n",
    "    '''Prints a basic description of the class.'''\n",
    "    return open('Intro.txt').read()\n",
    "\n",
    "coursedescription()"
   ]
  },
  {
   "cell_type": "code",
   "execution_count": 5,
   "metadata": {
    "collapsed": false
   },
   "outputs": [
   ],
   "source": [
   ]
  },
  {
   "cell_type": "code",
   "execution_count": 5,
   "metadata": {
    "collapsed": false
   },
   "outputs": [
    {
     "data": {
      "text/plain": [
       "'Ethan was an invalueable part of the class this semester. His humor, collaboration, and work ethic helped to create a rich learning environment and he is a role model for all of his peers. I hope he continues to bring the same energy into the next semester and continues to brighten our classroom.'"
      ]
     },
     "execution_count": 5,
     "metadata": {
     },
     "output_type": "execute_result"
    }
   ],
   "source": [
    "def studentattributes(item):\n",
    "    '''Creates a sentence talking about the attributes of that particular student.'''\n",
    "    sing_pro = ''\n",
    "    plur_pro = ''\n",
    "    if item[14] == 'male':\n",
    "        sing_pro = 'he'\n",
    "        plur_pro = 'his'\n",
    "    else:\n",
    "        sing_pro = 'she'\n",
    "        plur_pro = 'her'\n",
    "    comment = (f\"{item[0]} was an invalueable part of the class this semester. {plur_pro.title()} {item[2]}, {item[3]}, and {item[4]} helped to create a rich learning environment and {sing_pro} is a role model for all of {plur_pro} peers. I hope {sing_pro} continues to bring the same energy into the next semester and continues to brighten our classroom.\")\n",
    "    return comment\n",
    "\n",
    "studentattributes(items())"
   ]
  },
  {
   "cell_type": "code",
   "execution_count": 6,
   "metadata": {
    "collapsed": false
   },
   "outputs": [
    {
     "data": {
      "text/plain": [
       "'He is comfortable asking questions during the larger class discussions and also works well in small groups with his peers. His willingness to participate in both group and class activities helped make the learning process a little easier for the rest of the class.'"
      ]
     },
     "execution_count": 6,
     "metadata": {
     },
     "output_type": "execute_result"
    }
   ],
   "source": [
    "# with open('teachercomments.csv') as csvfile:\n",
    "#     data = csv.reader(csvfile, delimiter=',')\n",
    "#     header = csvfile.readline()\n",
    "#     for row in data:\n",
    "\n",
    "def group_success(item):\n",
    "    '''Creates a sentence reflecting on how student works in a group'''\n",
    "    sing_pro = ''\n",
    "    plur_pro = ''\n",
    "    if item[14] == 'male':\n",
    "        sing_pro = 'he'\n",
    "        plur_pro = 'his'\n",
    "    else:\n",
    "        sing_pro = 'she'\n",
    "        plur_pro = 'her'\n",
    "    if item[15] == 'yes' and item[16] == 'yes':\n",
    "        comment = (f\"{sing_pro.title()} is comfortable asking questions during the larger class discussions and also works well in small groups with {plur_pro} peers. {plur_pro.title()} willingness to participate in both group and class activities helped make the learning process a little easier for the rest of the class.\")\n",
    "    elif item [15] == 'yes' and item[16] == 'no':\n",
    "        comment = (f\"{sing_pro.title()} is comfortable asking questions during the larger class discussions but had a hard time working in small groups with {plur_pro} peers. Next semester, I hope {item[0]} continues to ask questions in larger discussions and starts to bring the same energy to the smaller group discussions.\")\n",
    "    elif item [15] == 'no' and item[16] == 'yes':\n",
    "        comment = (f\"{sing_pro.title()} was hesitant to ask questions during the larger class discussions but worked well in small groups with {plur_pro} peers. {item[0]} is a bit on the quiet side, which is not necessarily a bad thing, but I hope to hear {plur_pro} voice a little more during our big discussions.\")\n",
    "    else:\n",
    "        comment = (f\"{sing_pro.title()} was hesitant to ask questions during the larger class discussions and also didn't work well in small groups with {plur_pro} peers. Although not a requirement, engaging in discussions both large and small is an important part of our class, and is one of the best ways to grasp a firm understanding of the different concepts. I hope to see {item[0]} participate more next semester.\")\n",
    "    return comment\n",
    "\n",
    "group_success(items())"
   ]
  },
  {
   "cell_type": "code",
   "execution_count": 7,
   "metadata": {
    "collapsed": false
   },
   "outputs": [
    {
     "data": {
      "text/plain": [
       "'Ethan took four tests this semester: two unit tests, a midterm, and a final exam. Ethan did an excellent job with this semesters tests, averaging 90.75%.'"
      ]
     },
     "execution_count": 7,
     "metadata": {
     },
     "output_type": "execute_result"
    }
   ],
   "source": [
    "def testgrades(item):\n",
    "    '''Creates a sentence talking about a particular students grades and their average score.'''\n",
    "    sing_pro = ''\n",
    "    plur_pro = ''\n",
    "    if item[14] == 'male':\n",
    "        sing_pro = 'he'\n",
    "        plur_pro = 'his'\n",
    "    else:\n",
    "        sing_pro = 'she'\n",
    "        plur_pro = 'her'\n",
    "    testav = (int(item[5])+int(item[6])+int(item[7])+int(item[8]))/4\n",
    "    if testav >= 90:\n",
    "        testing = f'did an excellent job with this semesters tests, averaging {testav}%.'\n",
    "    elif 90 > testav >= 80:\n",
    "        testing = f'did a good job with this semesters tests, averaging {testav}%.'\n",
    "    elif 80 > testav >= 70:\n",
    "        testing = f'has room for improvement in testing, averaging {testav}%.'\n",
    "    elif 70 > testav:\n",
    "        testing = f'has struggled with testing this semester, averaging {testav}%.'\n",
    "    testsentences = (f'{item[0]} took four tests this semester: two unit tests, a midterm, and a final exam. {item[0]} {testing}')\n",
    "    return testsentences\n",
    "testgrades(items())"
   ]
  },
  {
   "cell_type": "code",
   "execution_count": 8,
   "metadata": {
    "collapsed": false
   },
   "outputs": [
    {
     "data": {
      "text/plain": [
       "'Ethan has been working hard since Day 1 and always comes prepared for class. I hope he continues to motivate himself and keeps the same level of focus in the second semester.'"
      ]
     },
     "execution_count": 8,
     "metadata": {
     },
     "output_type": "execute_result"
    }
   ],
   "source": [
    "def improvement(item):\n",
    "    '''Identifies what a student needs to do to improve in the second semester'''\n",
    "    sing_pro = ''\n",
    "    plur_pro = ''\n",
    "    if item[14] == 'male':\n",
    "        sing_pro = 'he'\n",
    "        plur_pro = 'his'\n",
    "        selfpro = 'himself'\n",
    "    else:\n",
    "        sing_pro = 'she'\n",
    "        plur_pro = 'her'\n",
    "        selfpro ='herself'\n",
    "    if 'focus' != item[2] and 'focus' != item[3] and 'focus' != item[4]:\n",
    "        individualimprove = (f\"{item[0]}'s biggest weakness this semester was their lack of focus. If {sing_pro} can be more focused in class next semester {sing_pro} will see great improvement in both the quality of {plur_pro} work and overall grade.\")\n",
    "    if 'natural ability' == item[2] or 'natural ability' == item[3] or 'natural ability' == item[4]:\n",
    "        if(int(item[5])+int(item[6])+int(item[7])+int(item[8]))/4 < 80:\n",
    "            individualimprove = (f\"Coding comes very naturally for {item[0]}, yet {sing_pro} has had test scores lower than {plur_pro} ability. {item[0]} will be able to raise {plur_pro} grade if {sing_pro} applies {selfpro} more in the second semester.\")\n",
    "    if (int(item[5])+int(item[6]))-3 > int(item[7])+int(item[8]):\n",
    "        individualimprove = (f\"{item[0]} started the year off strong but has trailed off in the second quarter (averaging {(int(item[5])+int(item[6]))/2}% on first quarter tests and {(int(item[7])+int(item[8]))/2}% on second quarter tests). Maintaining effort throughout the course will reap long term benefits for {item[0]}.\")\n",
    "    else:\n",
    "        individualimprove = (f\"{item[0]} has been working hard since Day 1 and always comes prepared for class. I hope {sing_pro} continues to motivate {selfpro} and keeps the same level of focus in the second semester.\")\n",
    "    return individualimprove\n",
    "improvement(items())"
   ]
  },
  {
   "cell_type": "code",
   "execution_count": 23,
   "metadata": {
    "collapsed": false
   },
   "outputs": [
    {
     "data": {
      "text/plain": [
       "'Ethan, your grade for the semester is an A-. We look forward to your continued growth as a computer scientist next semester.'"
      ]
     },
     "execution_count": 23,
     "metadata": {
     },
     "output_type": "execute_result"
    }
   ],
   "source": [
    "def semestergrade(item):\n",
    "    '''Lists students semester grade'''\n",
    "    if item[14] == 'male':\n",
    "        sing_pro = 'he'\n",
    "        plur_pro = 'his'\n",
    "        selfpro = 'himself'\n",
    "    else:\n",
    "        sing_pro = 'she'\n",
    "        plur_pro = 'her'\n",
    "        selfpro ='herself'\n",
    "    if float(item[11]) >= 93:\n",
    "        gradesentence = (f\"{item[0]}, your grade for the semester is an A. We look forward to your continued growth as a computer scientist next semester.\")\n",
    "    if 93 > float(item[11]) >= 90:\n",
    "        gradesentence = (f\"{item[0]}, your grade for the semester is an A-. We look forward to your continued growth as a computer scientist next semester.\")\n",
    "    if 90 > float(item[11]) >= 87:\n",
    "        gradesentence = (f\"{item[0]}, your grade for the semester is a B+. We look forward to your continued growth as a computer scientist next semester.\")\n",
    "    if 87 > float(item[11]) >= 83:\n",
    "        gradesentence = (f\"{item[0]}, your grade for the semester is a B. We look forward to your continued growth as a computer scientist next semester.\")\n",
    "    if 83 > float(item[11]) >= 80:\n",
    "        gradesentence = (f\"{item[0]}, your grade for the semester is a B-. We look forward to your continued growth as a computer scientist next semester.\")\n",
    "    if 80 > float(item[11]) >= 77:\n",
    "        gradesentence = (f\"{item[0]}, your grade for the semester is a C+. We look forward to your continued growth as a computer scientist next semester.\")\n",
    "    if 77 > float(item[11]) >= 73:\n",
    "        gradesentence = (f\"{item[0]}, your grade for the semester is a C. We look forward to your continued growth as a computer scientist next semester.\")\n",
    "    if 73 > float(item[11]) >= 70:\n",
    "        gradesentence = (f\"{item[0]}, your grade for the semester is a C-. We look forward to your continued growth as a computer scientist next semester.\")\n",
    "    if 70 > float(item[11]) >= 67:\n",
    "        gradesentence = (f\"{item[0]}, your grade for the semester is a D+. We look forward to your continued growth as a computer scientist next semester.\")\n",
    "    if 67 > float(item[11]) >= 63:\n",
    "        gradesentence = (f\"{item[0]}, your grade for the semester is a D. We look forward to your continued growth as a computer scientist next semester.\")\n",
    "    if 63 > float(item[11]) >= 60:\n",
    "        gradesentence = (f\"{item[0]}, your grade for the semester is a D-. We look forward to your continued growth as a computer scientist next semester.\")\n",
    "    if 60 > float(item[11]):\n",
    "        gradesentence = (f\"{item[0]}, your grade for the semester is an F. We look forward to your continued growth as a computer scientist next semester.\")\n",
    "    return gradesentence\n",
    "\n",
    "semestergrade(items())"
   ]
  },
  {
   "cell_type": "code",
   "execution_count": 22,
   "metadata": {
    "collapsed": false
   },
   "outputs": [
    {
     "name": "stdout",
     "output_type": "stream",
     "text": [
      "This semester in Comp. Sci. Python, through a project-based approach, students worked towards mastering the fundamentals of computational thinking and problem-solving using the Python programming language. Over the semester, students learned Python syntax, data types, program organization, algorithm design, and control structures. However, the primary goal for this class was for students to be able to develop efficient, readable algorithms and debug code when necessary. Ethan was an invalueable part of the class this semester. His humor, collaboration, and work ethic helped to create a rich learning environment and he is a role model for all of his peers. I hope he continues to bring the same energy into the next semester and continues to brighten our classroom. He is comfortable asking questions during the larger class discussions and also works well in small groups with his peers. His willingness to participate in both group and class activities helped make the learning process a little easier for the rest of the class. Ethan took four tests this semester: two unit tests, a midterm, and a final exam. Ethan did an excellent job with this semesters tests, averaging 90.75%. Ethan has been working hard since day 1 and always comes prepared for class. I hope he continues to motivate himself and keeps the same level of focus in the second semester.\n"
     ]
    }
   ],
   "source": [
    "#Did not use in final funciton\n",
    "def comment(item):\n",
    "    '''prints one comment'''\n",
    "    string = ''\n",
    "    string = string + coursedescription()\n",
    "    string = string + ' ' + studentattributes(item)\n",
    "    string = string + ' '+ group_success(item)\n",
    "    string = string + ' ' + testgrades(item)\n",
    "    string = string + ' ' + improvement(item)\n",
    "    string = string + ' ' + semestergrade(item)\n",
    "    fout = open(f\"{item[0]}.txt\", 'w')\n",
    "    fout.write(string)\n",
    "    fout.close()\n",
    "    for line in open('{item[0]}.txt'):\n",
    "        print(line)\n",
    "\n",
    "comment(items())"
   ]
  },
  {
   "cell_type": "code",
   "execution_count": 88,
   "metadata": {
    "collapsed": false,
    "scrolled": true
   },
   "outputs": [
    {
     "name": "stderr",
     "output_type": "stream",
     "text": [
      "WARNING: Some output was deleted.\n"
     ]
    }
   ],
   "source": [
    "def main():\n",
    "    '''Combines all sentences into full comment'''\n",
    "    with open('teachercomments.csv') as csvfile:\n",
    "        data = csv.reader(csvfile, delimiter=',')\n",
    "        header = csvfile.readline()\n",
    "        for row in data:\n",
    "            the_comment = ''\n",
    "            the_comment = the_comment + ' ' + studentattributes(row)\n",
    "            the_comment = the_comment + ' ' + group_success(row)\n",
    "            the_comment = the_comment + ' ' + testgrades(row)\n",
    "            the_comment = the_comment + ' ' + improvement(row)\n",
    "            string = the_comment + ' ' + semestergrade(item)\n",
    "            fout = open(f\"{row[0]}.txt\", 'w')\n",
    "            fout.write(the_comment)\n",
    "            fout.close()\n",
    "            for line in open(f\"{row[0]}.txt\"):\n",
    "                print(line)\n",
    "\n",
    "if __name__ == \"__main__\":\n",
    "    main()"
   ]
  },
  {
   "cell_type": "code",
   "execution_count": 45,
   "metadata": {
    "collapsed": false
   },
   "outputs": [
   ],
   "source": [
   ]
  },
  {
   "cell_type": "code",
   "execution_count": 0,
   "metadata": {
    "collapsed": false
   },
   "outputs": [
   ],
   "source": [
   ]
  }
 ],
 "metadata": {
  "kernelspec": {
   "display_name": "Python 3 (Anaconda 2019)",
   "env": {
    "AR": "/ext/anaconda-2019.03/bin/x86_64-conda_cos6-linux-gnu-ar",
    "AS": "/ext/anaconda-2019.03/bin/x86_64-conda_cos6-linux-gnu-as",
    "CC": "/ext/anaconda-2019.03/bin/x86_64-conda_cos6-linux-gnu-cc",
    "CONDA_EXE": "/ext/anaconda-2019.03/bin/conda",
    "CONDA_PREFIX": "/ext/anaconda-2019.03",
    "CONDA_PYTHON_EXE": "/ext/anaconda-2019.03/bin/python",
    "CPP": "/ext/anaconda-2019.03/bin/x86_64-conda_cos6-linux-gnu-cpp",
    "CXX": "/ext/anaconda-2019.03/bin/x86_64-conda_cos6-linux-gnu-c++",
    "CXXFILT": "/ext/anaconda-2019.03/bin/x86_64-conda_cos6-linux-gnu-c++filt",
    "ELFEDIT": "/ext/anaconda-2019.03/bin/x86_64-conda_cos6-linux-gnu-elfedit",
    "F77": "/ext/anaconda-2019.03/bin/x86_64-conda_cos6-linux-gnu-gfortran",
    "F90": "/ext/anaconda-2019.03/bin/x86_64-conda_cos6-linux-gnu-gfortran",
    "F95": "/ext/anaconda-2019.03/bin/x86_64-conda_cos6-linux-gnu-f95",
    "FC": "/ext/anaconda-2019.03/bin/x86_64-conda_cos6-linux-gnu-gfortran",
    "GCC": "/ext/anaconda-2019.03/bin/x86_64-conda_cos6-linux-gnu-gcc",
    "GCC_AR": "/ext/anaconda-2019.03/bin/x86_64-conda_cos6-linux-gnu-gcc-ar",
    "GCC_NM": "/ext/anaconda-2019.03/bin/x86_64-conda_cos6-linux-gnu-gcc-nm",
    "GCC_RANLIB": "/ext/anaconda-2019.03/bin/x86_64-conda_cos6-linux-gnu-gcc-ranlib",
    "GDAL_DATA": "/ext/anaconda-2019.03/share/gdal",
    "GFORTRAN": "/ext/anaconda-2019.03/bin/x86_64-conda_cos6-linux-gnu-gfortran",
    "GPROF": "/ext/anaconda-2019.03/bin/x86_64-conda_cos6-linux-gnu-gprof",
    "GXX": "/ext/anaconda-2019.03/bin/x86_64-conda_cos6-linux-gnu-g++",
    "JAVA_HOME": "/ext/anaconda-2019.03",
    "JAVA_LD_LIBRARY_PATH": "/ext/anaconda-2019.03/lib/server",
    "LD": "/ext/anaconda-2019.03/bin/x86_64-conda_cos6-linux-gnu-ld",
    "LD_GOLD": "/ext/anaconda-2019.03/bin/x86_64-conda_cos6-linux-gnu-ld.gold",
    "LD_LIBRARY_PATH": "/ext/anaconda-2019.03/lib",
    "NM": "/ext/anaconda-2019.03/bin/x86_64-conda_cos6-linux-gnu-nm",
    "OBJCOPY": "/ext/anaconda-2019.03/bin/x86_64-conda_cos6-linux-gnu-objcopy",
    "OBJDUMP": "/ext/anaconda-2019.03/bin/x86_64-conda_cos6-linux-gnu-objdump",
    "OCAMLFIND_CONF": "/ext/anaconda-2019.03/etc/findlib.conf",
    "OCAMLLIB": "/ext/anaconda-2019.03/lib/ocaml",
    "OCAML_PREFIX": "/ext/anaconda-2019.03",
    "PATH": "/ext/anaconda-2019.03/bin:/ext/anaconda-2019.03/condabin:/cocalc/bin:/cocalc/src/smc-project/bin:/home/user/bin:/home/user/.local/bin:/ext/bin:/usr/lib/xpra:/opt/ghc/bin:/usr/local/bin:/usr/bin:/bin:/ext/data/homer/bin:/ext/data/weblogo:/ext/intellij/idea/bin:/ext/pycharm/pycharm/bin:/usr/lib/postgresql/10/bin",
    "PROJ_LIB": "/ext/anaconda-2019.03/share/proj",
    "PYTHONHOME": "/ext/anaconda-2019.03/lib/python3.7",
    "PYTHONPATH": "/ext/anaconda-2019.03/lib/python3.7:/ext/anaconda-2019.03/lib/python3.7/site-packages",
    "RANLIB": "/ext/anaconda-2019.03/bin/x86_64-conda_cos6-linux-gnu-ranlib",
    "READELF": "/ext/anaconda-2019.03/bin/x86_64-conda_cos6-linux-gnu-readelf",
    "RSTUDIO_WHICH_R": "/ext/anaconda-2019.03/bin/R",
    "SIZE": "/ext/anaconda-2019.03/bin/x86_64-conda_cos6-linux-gnu-size",
    "STRINGS": "/ext/anaconda-2019.03/bin/x86_64-conda_cos6-linux-gnu-strings",
    "STRIP": "/ext/anaconda-2019.03/bin/x86_64-conda_cos6-linux-gnu-strip"
   },
   "language": "python",
   "metadata": {
    "cocalc": {
     "description": "Python/R distribution for data science",
     "priority": 5,
     "url": "https://www.anaconda.com/distribution/"
    }
   },
   "name": "anaconda2019"
  },
  "language_info": {
   "codemirror_mode": {
    "name": "ipython",
    "version": 3
   },
   "file_extension": ".py",
   "mimetype": "text/x-python",
   "name": "python",
   "nbconvert_exporter": "python",
   "pygments_lexer": "ipython3",
   "version": "3.7.6"
  }
 },
 "nbformat": 4,
 "nbformat_minor": 0
}